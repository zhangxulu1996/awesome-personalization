{
 "cells": [
  {
   "cell_type": "code",
   "execution_count": 8,
   "metadata": {},
   "outputs": [],
   "source": [
    "import torch\n",
    "import numpy as np\n",
    "import random\n",
    "import os\n",
    "import json\n",
    "from PIL import Image\n",
    "\n",
    "from diffusers.utils import load_image\n",
    "from diffusers import EulerDiscreteScheduler, DDIMScheduler\n",
    "from huggingface_hub import hf_hub_download\n",
    "\n",
    "from photomaker import PhotoMakerStableDiffusionXLPipeline"
   ]
  },
  {
   "cell_type": "code",
   "execution_count": 9,
   "metadata": {},
   "outputs": [],
   "source": [
    "# gloal variable and function\n",
    "def image_grid(imgs, rows, cols, size_after_resize):\n",
    "    assert len(imgs) == rows*cols\n",
    "\n",
    "    w, h = size_after_resize, size_after_resize\n",
    "\n",
    "    grid = Image.new('RGB', size=(cols*w, rows*h))\n",
    "    grid_w, grid_h = grid.size\n",
    "\n",
    "    for i, img in enumerate(imgs):\n",
    "        img = img.resize((w,h))\n",
    "        grid.paste(img, box=(i%cols*w, i//cols*h))\n",
    "    return grid\n",
    "\n",
    "base_model_path = 'SG161222/RealVisXL_V3.0'\n",
    "device = \"cuda\"\n",
    "save_path = \"./outputs\""
   ]
  },
  {
   "cell_type": "code",
   "execution_count": 10,
   "metadata": {},
   "outputs": [
    {
     "name": "stderr",
     "output_type": "stream",
     "text": [
      "/home/huwentao/anaconda3/envs/photomaker/lib/python3.10/site-packages/huggingface_hub/file_download.py:1132: FutureWarning: `resume_download` is deprecated and will be removed in version 1.0.0. Downloads always resume when possible. If you want to force a new download, use `force_download=True`.\n",
      "  warnings.warn(\n",
      "Loading pipeline components...: 100%|██████████| 7/7 [00:01<00:00,  3.52it/s]\n"
     ]
    },
    {
     "name": "stdout",
     "output_type": "stream",
     "text": [
      "Loading PhotoMaker components [1] id_encoder from [/home/huwentao/.cache/huggingface/hub/models--TencentARC--PhotoMaker/snapshots/d7ec3fc17290263135825194aeb3bc456da67cc5]...\n",
      "Loading PhotoMaker components [2] lora_weights from [/home/huwentao/.cache/huggingface/hub/models--TencentARC--PhotoMaker/snapshots/d7ec3fc17290263135825194aeb3bc456da67cc5]\n"
     ]
    }
   ],
   "source": [
    "from huggingface_hub import hf_hub_download\n",
    "\n",
    "photomaker_ckpt = hf_hub_download(repo_id=\"TencentARC/PhotoMaker\", filename=\"photomaker-v1.bin\", repo_type=\"model\")\n",
    "\n",
    "pipe = PhotoMakerStableDiffusionXLPipeline.from_pretrained(\n",
    "    base_model_path,\n",
    "    torch_dtype=torch.bfloat16,\n",
    "    use_safetensors=True,\n",
    "    variant=\"fp16\",\n",
    ").to(device)\n",
    "\n",
    "pipe.load_photomaker_adapter(\n",
    "    os.path.dirname(photomaker_ckpt),\n",
    "    subfolder=\"\",\n",
    "    weight_name=os.path.basename(photomaker_ckpt),\n",
    "    trigger_word=\"img\"\n",
    ")\n",
    "pipe.id_encoder.to(device)\n",
    "\n",
    "\n",
    "#pipe.scheduler = EulerDiscreteScheduler.from_config(pipe.scheduler.config)\n",
    "#pipe.fuse_lora()\n",
    "\n",
    "pipe.scheduler = DDIMScheduler.from_config(pipe.scheduler.config)\n",
    "# pipe.set_adapters([\"photomaker\"], adapter_weights=[1.0])\n",
    "pipe.fuse_lora()"
   ]
  },
  {
   "cell_type": "code",
   "execution_count": null,
   "metadata": {},
   "outputs": [],
   "source": [
    "# Single Subject Generation\n",
    "single_subject = []                            # \"backpack\"\n",
    "# Single Prompt Generation\n",
    "single_prompt = []                            # e.g. [\"a {0} {1} near the pool\"]\n",
    "\n",
    "num_generation = 4\n",
    "negative_prompt = \"(asymmetry, worst quality, low quality, illustration, 3d, 2d, painting, cartoons, sketch), open mouth\"\n",
    "\n",
    "output_path = \"../../outputs/face/photomaker\"\n",
    "subjects = os.listdir(\"../../pcs_dataset/face\")\n",
    "dataset_info_path = \"../../pcs_dataset/info.json\"\n",
    "\n",
    "with open(dataset_info_path, 'r') as file:\n",
    "    data_info = json.load(file)[\"face\"]\n",
    "\n",
    "id_with_gender = data_info[\"id_with_gender\"]\n",
    "\n",
    "if len(single_subject):\n",
    "    subjects = single_subject\n",
    "\n",
    "for subject in subjects:\n",
    "    \n",
    "    # define and show the input ID images\n",
    "    input_folder_name = os.path.join('../../pcs_dataset/face/', subject)\n",
    "    image_basename_list = os.listdir(input_folder_name)\n",
    "    image_path_list = sorted([os.path.join(input_folder_name, basename) for basename in image_basename_list])\n",
    "\n",
    "    input_id_images = []\n",
    "    for image_path in image_path_list:\n",
    "        input_id_images.append(load_image(image_path))\n",
    "\n",
    "    print(f\"***** Subject: {subject} *****\")\n",
    "\n",
    "    os.makedirs(os.path.join(output_path, subject), exist_ok=True)\n",
    "\n",
    "    if len(single_prompt):\n",
    "        prompts = single_prompt\n",
    "    else:\n",
    "        with open(dataset_info_path, 'r') as file:\n",
    "          data_info = json.load(file)[\"face\"]\n",
    "        prompts = data_info[\"prompt_accessory\"] + data_info[\"prompt_context\"] + data_info[\"prompt_action\"] + data_info[\"prompt_style\"]\n",
    "\n",
    "    for prompt in prompts:\n",
    "        prompt = prompt.replace(\"{0} {1}\", f\"{id_with_gender[subject]} img\") + \", high quality\"\n",
    "        print(f\"**Prompt**: {prompt}\")\n",
    "\n",
    "        generator = torch.Generator(device=device).manual_seed(42)\n",
    "\n",
    "        ## Parameter setting\n",
    "        num_steps = 50\n",
    "        style_strength_ratio = 20\n",
    "        start_merge_step = int(float(style_strength_ratio) / 100 * num_steps)\n",
    "        if start_merge_step > 30:\n",
    "            start_merge_step = 30\n",
    "\n",
    "        images = pipe(\n",
    "            prompt=prompt,\n",
    "            input_id_images=input_id_images,\n",
    "            negative_prompt=negative_prompt,\n",
    "            num_images_per_prompt=num_generation,\n",
    "            num_inference_steps=num_steps,\n",
    "            start_merge_step=start_merge_step,\n",
    "            generator=generator,\n",
    "        ).images\n",
    "\n",
    "        save_path = os.path.join(output_path, subject, f\"{prompt}\")\n",
    "        os.makedirs(save_path, exist_ok=True)\n",
    "\n",
    "        for img_idx, img in enumerate(images):\n",
    "            img.save(os.path.join(save_path, f\"{img_idx:04d}.jpg\"))\n",
    "    "
   ]
  },
  {
   "cell_type": "markdown",
   "metadata": {},
   "source": [
    "## Evaluation"
   ]
  },
  {
   "cell_type": "markdown",
   "metadata": {},
   "source": [
    "### Calculate the similarity for each sample\n",
    "Calculate img to img similarity and text to img similarity by CLIP Evaluator"
   ]
  },
  {
   "cell_type": "code",
   "execution_count": null,
   "metadata": {},
   "outputs": [],
   "source": [
    "import os, sys, json\n",
    "\n",
    "os.environ[\"CUDA_VISIBLE_DEVICES\"] = \"0\"\n",
    "\n",
    "utils_path = os.path.abspath(os.path.join('../..'))\n",
    "sys.path.append(utils_path)\n",
    "\n",
    "import torch\n",
    "import numpy as np\n",
    "from PIL import Image\n",
    "from utils.clip_eval import evaluate_t2i\n",
    "from utils.face_eval import calculate_identity_similarity"
   ]
  },
  {
   "cell_type": "code",
   "execution_count": null,
   "metadata": {},
   "outputs": [],
   "source": [
    "def convert_to_native(data):\n",
    "    if isinstance(data, np.ndarray):\n",
    "        return data.tolist()\n",
    "    elif isinstance(data, np.generic):\n",
    "        return data.item()\n",
    "    elif isinstance(data, dict):\n",
    "        return {key: convert_to_native(value) for key, value in data.items()}\n",
    "    elif isinstance(data, list):\n",
    "        return [convert_to_native(item) for item in data]\n",
    "    else:\n",
    "        return data\n",
    "    \n",
    "def add_evaluation(file_path, new_data):\n",
    "    # check whether the file exist\n",
    "    if not os.path.exists(file_path):\n",
    "        with open(file_path, 'w') as file:\n",
    "            json.dump(convert_to_native(new_data), file, indent=4)\n",
    "    else:\n",
    "        with open(file_path, 'r') as file:\n",
    "            data = json.load(file)\n",
    "        data.update(convert_to_native(new_data))\n",
    "        with open(file_path, 'w') as file:\n",
    "            json.dump(data, file, indent=4)"
   ]
  },
  {
   "cell_type": "code",
   "execution_count": null,
   "metadata": {},
   "outputs": [],
   "source": [
    "outputs_path = \"../../outputs/face/photomaker\"\n",
    "eval_res_path = \"../../eval_results/face/photomaker\"\n",
    "dataset_path = \"../../pcs_dataset/face\"\n",
    "dataset_info_path = \"../../pcs_dataset/info.json\"\n",
    "\n",
    "with open(dataset_info_path, 'r') as file:\n",
    "    data_info = json.load(file)[\"face\"]\n",
    "\n",
    "id_with_gender = data_info[\"id_with_gender\"]\n",
    "\n",
    "os.makedirs(eval_res_path, exist_ok=True)\n",
    "\n",
    "id_list = os.listdir(outputs_path)\n",
    "\n",
    "for id in id_list:\n",
    "    evaluation_res = dict()\n",
    "    print(f\"***** Face ID: {id} *****\")\n",
    "\n",
    "    res_for_each_subject =dict()\n",
    "\n",
    "    ref_image = Image.open(os.path.join(dataset_path, id, \"face.jpg\")).convert(\"RGB\")\n",
    "\n",
    "    for prompt in os.listdir(os.path.join(outputs_path, id)):\n",
    "        prompt_eval = prompt.replace(\", high quality\", \"\")\n",
    "        print(f\"**Prompt**: {prompt_eval}\")\n",
    "\n",
    "        res_for_each_prompt =dict()\n",
    "\n",
    "        for generate_img_name in os.listdir(os.path.join(outputs_path, id, prompt)):\n",
    "            generate_img_path = os.path.join(outputs_path, id, prompt, generate_img_name)\n",
    "            \n",
    "            text_similarity = evaluate_t2i(generate_img_path, prompt_eval)\n",
    "\n",
    "            enerated_image = Image.open(generate_img_path).convert(\"RGB\")\n",
    "            identity_similarity = float(calculate_identity_similarity(device=torch.device(\"cuda\"), generated_image=enerated_image, ref_image=ref_image))\n",
    "\n",
    "            res_for_each_prompt[generate_img_name] = [identity_similarity, text_similarity]\n",
    "        \n",
    "        res_for_each_subject[prompt] = res_for_each_prompt\n",
    "        print(res_for_each_prompt)\n",
    "\n",
    "    evaluation_res[id] = res_for_each_subject\n",
    "\n",
    "    add_evaluation(os.path.join(eval_res_path, \"evaluation_results.json\"), evaluation_res)"
   ]
  },
  {
   "cell_type": "markdown",
   "metadata": {},
   "source": [
    "### Calculate the average similarity"
   ]
  },
  {
   "cell_type": "code",
   "execution_count": 24,
   "metadata": {},
   "outputs": [
    {
     "name": "stdout",
     "output_type": "stream",
     "text": [
      "Identity Similarity:  0.5468374671934483 \n",
      "Text Similarity: 0.3111436971028646\n"
     ]
    }
   ],
   "source": [
    "import json\n",
    "\n",
    "eval_res_path = \"../../eval_results/face/photomaker/evaluation_results.json\"\n",
    "\n",
    "with open(eval_res_path, \"r\") as f:\n",
    "    data = json.load(f)\n",
    "\n",
    "img_sim = 0.0\n",
    "text_sim = 0.0\n",
    "cnt = 0\n",
    "\n",
    "for subject in data:\n",
    "    for prompt in data[subject]:\n",
    "        for sample in data[subject][prompt]:\n",
    "            img_sim = img_sim + data[subject][prompt][sample][0]\n",
    "            text_sim = text_sim + data[subject][prompt][sample][1]\n",
    "            cnt = cnt + 1\n",
    "print(\"Identity Similarity: \", img_sim/cnt, \"\\nText Similarity:\", text_sim/cnt)"
   ]
  }
 ],
 "metadata": {
  "kernelspec": {
   "display_name": "photomaker",
   "language": "python",
   "name": "python3"
  },
  "language_info": {
   "codemirror_mode": {
    "name": "ipython",
    "version": 3
   },
   "file_extension": ".py",
   "mimetype": "text/x-python",
   "name": "python",
   "nbconvert_exporter": "python",
   "pygments_lexer": "ipython3",
   "version": "3.10.14"
  }
 },
 "nbformat": 4,
 "nbformat_minor": 2
}
