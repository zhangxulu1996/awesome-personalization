{
 "cells": [
  {
   "cell_type": "markdown",
   "metadata": {},
   "source": [
    "## Generate images for evaluation"
   ]
  },
  {
   "cell_type": "code",
   "execution_count": 1,
   "metadata": {},
   "outputs": [
    {
     "name": "stderr",
     "output_type": "stream",
     "text": [
      "/home/huwentao/anaconda3/envs/e4t/lib/python3.9/site-packages/tqdm/auto.py:21: TqdmWarning: IProgress not found. Please update jupyter and ipywidgets. See https://ipywidgets.readthedocs.io/en/stable/user_install.html\n",
      "  from .autonotebook import tqdm as notebook_tqdm\n"
     ]
    }
   ],
   "source": [
    "import os,json\n",
    "os.environ[\"CUDA_VISIBLE_DEVICES\"] = \"2\"\n",
    "\n",
    "import sys\n",
    "utils_path = os.path.abspath(os.path.join('../..'))\n",
    "sys.path.append(utils_path)\n",
    "\n",
    "from inference import *\n",
    "\n",
    "\n",
    "# inital args\n",
    "args = parse_args([\"--pretrained_model_name_or_path\", \"../../logs/face/e4t/000001/30\", \"--num_images_per_prompt\", \"4\", \"--scheduler_type\", \"ddim\", \\\n",
    "                   \"--image_path_or_url\", \"../../pcs_dataset/face/000001/face.jpg\", \\\n",
    "                   \"--num_inference_steps\", \"50\", \"--guidance_scale\", \"7.5\"])\n"
   ]
  },
  {
   "cell_type": "code",
   "execution_count": null,
   "metadata": {},
   "outputs": [],
   "source": [
    "# Single Subject Generation\n",
    "single_subject = []                            # \"backpack\"\n",
    "# Single Prompt Generation\n",
    "single_prompt = []                            # e.g. [\"a {0} {1} near the pool\"]\n",
    "\n",
    "num_generation = 4\n",
    "\n",
    "output_path = \"../../outputs/face/e4t\"\n",
    "subjects = os.listdir(\"../../logs/face/e4t/\")\n",
    "dataset_info_path = \"../../pcs_dataset/info.json\"\n",
    "\n",
    "if len(single_subject):\n",
    "    subjects = single_subject\n",
    "\n",
    "for subject in subjects:\n",
    "    \n",
    "    print(f\"***** Subject: {subject} *****\")\n",
    "\n",
    "    os.makedirs(os.path.join(output_path, subject), exist_ok=True)\n",
    "\n",
    "    if len(single_prompt):\n",
    "        prompts = single_prompt\n",
    "    else:\n",
    "        with open(dataset_info_path, 'r') as file:\n",
    "          data_info = json.load(file)[\"face\"]\n",
    "        prompts = data_info[\"prompt_accessory\"] + data_info[\"prompt_context\"] + data_info[\"prompt_action\"] + data_info[\"prompt_style\"]\n",
    "\n",
    "    for prompt in prompts:\n",
    "        prompt = prompt.replace(\"a {0} {1}\", \"*s\")\n",
    "        print(f\"**Prompt**: {prompt}\")\n",
    "\n",
    "        if prompt not in os.listdir(os.path.join(output_path, subject)):\n",
    "            args.prompt = prompt\n",
    "            args.image_path_or_url = f\"../../pcs_dataset/face/{subject}/face.jpg\"\n",
    "            args.pretrained_model_name_or_path = f\"../../logs/face/e4t/{subject}/30\"\n",
    "\n",
    "            images = e4t_inference(args)\n",
    "\n",
    "            save_path = os.path.join(output_path, subject, f\"{prompt}\")\n",
    "            os.makedirs(save_path, exist_ok=True)\n",
    "\n",
    "            for img_idx, img in enumerate(images):\n",
    "                img.save(os.path.join(save_path, f\"{img_idx:04d}.jpg\"))"
   ]
  },
  {
   "cell_type": "markdown",
   "metadata": {},
   "source": [
    "## Evaluation"
   ]
  },
  {
   "cell_type": "markdown",
   "metadata": {},
   "source": [
    "### Calculate the similarity for each sample\n",
    "Calculate img to img similarity and text to img similarity by CLIP Evaluator"
   ]
  },
  {
   "cell_type": "code",
   "execution_count": 1,
   "metadata": {},
   "outputs": [
    {
     "name": "stderr",
     "output_type": "stream",
     "text": [
      "/home/huwentao/anaconda3/envs/fastcomposer/lib/python3.9/site-packages/tqdm/auto.py:21: TqdmWarning: IProgress not found. Please update jupyter and ipywidgets. See https://ipywidgets.readthedocs.io/en/stable/user_install.html\n",
      "  from .autonotebook import tqdm as notebook_tqdm\n"
     ]
    }
   ],
   "source": [
    "import os, sys, json\n",
    "\n",
    "os.environ[\"CUDA_VISIBLE_DEVICES\"] = \"0\"\n",
    "\n",
    "utils_path = os.path.abspath(os.path.join('../..'))\n",
    "sys.path.append(utils_path)\n",
    "\n",
    "import torch\n",
    "import numpy as np\n",
    "from PIL import Image\n",
    "from utils.clip_eval import evaluate_t2i\n",
    "from utils.face_eval import calculate_identity_similarity"
   ]
  },
  {
   "cell_type": "code",
   "execution_count": 2,
   "metadata": {},
   "outputs": [],
   "source": [
    "def convert_to_native(data):\n",
    "    if isinstance(data, np.ndarray):\n",
    "        return data.tolist()\n",
    "    elif isinstance(data, np.generic):\n",
    "        return data.item()\n",
    "    elif isinstance(data, dict):\n",
    "        return {key: convert_to_native(value) for key, value in data.items()}\n",
    "    elif isinstance(data, list):\n",
    "        return [convert_to_native(item) for item in data]\n",
    "    else:\n",
    "        return data\n",
    "    \n",
    "def add_evaluation(file_path, new_data):\n",
    "    # check whether the file exist\n",
    "    if not os.path.exists(file_path):\n",
    "        with open(file_path, 'w') as file:\n",
    "            json.dump(convert_to_native(new_data), file, indent=4)\n",
    "    else:\n",
    "        with open(file_path, 'r') as file:\n",
    "            data = json.load(file)\n",
    "        data.update(convert_to_native(new_data))\n",
    "        with open(file_path, 'w') as file:\n",
    "            json.dump(data, file, indent=4)"
   ]
  },
  {
   "cell_type": "code",
   "execution_count": null,
   "metadata": {},
   "outputs": [],
   "source": [
    "outputs_path = \"../../outputs/face/e4t\"\n",
    "eval_res_path = \"../../eval_results/face/e4t\"\n",
    "dataset_path = \"../../pcs_dataset/face\"\n",
    "dataset_info_path = \"../../pcs_dataset/info.json\"\n",
    "\n",
    "with open(dataset_info_path, 'r') as file:\n",
    "    data_info = json.load(file)[\"face\"]\n",
    "\n",
    "id_with_gender = data_info[\"id_with_gender\"]\n",
    "\n",
    "os.makedirs(eval_res_path, exist_ok=True)\n",
    "\n",
    "id_list = os.listdir(outputs_path)\n",
    "\n",
    "for id in id_list:\n",
    "    evaluation_res = dict()\n",
    "    print(f\"***** Face ID: {id} *****\")\n",
    "\n",
    "    res_for_each_subject =dict()\n",
    "\n",
    "    ref_image = Image.open(os.path.join(dataset_path, id, \"face.jpg\")).convert(\"RGB\")\n",
    "\n",
    "    for prompt in os.listdir(os.path.join(outputs_path, id)):\n",
    "        prompt_eval = prompt.replace(\"*s\", f\"a {id_with_gender[id]}\")\n",
    "        print(f\"**Prompt**: {prompt_eval}\")\n",
    "\n",
    "        res_for_each_prompt =dict()\n",
    "\n",
    "        for generate_img_name in os.listdir(os.path.join(outputs_path, id, prompt)):\n",
    "            generate_img_path = os.path.join(outputs_path, id, prompt, generate_img_name)\n",
    "            \n",
    "            text_similarity = evaluate_t2i(generate_img_path, prompt_eval)\n",
    "\n",
    "            enerated_image = Image.open(generate_img_path).convert(\"RGB\")\n",
    "            identity_similarity = float(calculate_identity_similarity(device=torch.device(\"cuda\"), generated_image=enerated_image, ref_image=ref_image))\n",
    "\n",
    "            res_for_each_prompt[generate_img_name] = [identity_similarity, text_similarity]\n",
    "        \n",
    "        res_for_each_subject[prompt] = res_for_each_prompt\n",
    "        print(res_for_each_prompt)\n",
    "\n",
    "    evaluation_res[id] = res_for_each_subject\n",
    "\n",
    "    add_evaluation(os.path.join(eval_res_path, \"evaluation_results.json\"), evaluation_res)"
   ]
  },
  {
   "cell_type": "markdown",
   "metadata": {},
   "source": [
    "### Calculate the average similarity"
   ]
  },
  {
   "cell_type": "code",
   "execution_count": 4,
   "metadata": {},
   "outputs": [
    {
     "name": "stdout",
     "output_type": "stream",
     "text": [
      "Identity Similarity:  0.17530545070942025 \n",
      "Text Similarity: 0.26860020955403646\n"
     ]
    }
   ],
   "source": [
    "import json\n",
    "\n",
    "eval_res_path = \"../../eval_results/face/e4t/evaluation_results.json\"\n",
    "\n",
    "with open(eval_res_path, \"r\") as f:\n",
    "    data = json.load(f)\n",
    "\n",
    "img_sim = 0.0\n",
    "text_sim = 0.0\n",
    "cnt = 0\n",
    "\n",
    "for subject in data:\n",
    "    for prompt in data[subject]:\n",
    "        for sample in data[subject][prompt]:\n",
    "            img_sim = img_sim + data[subject][prompt][sample][0]\n",
    "            text_sim = text_sim + data[subject][prompt][sample][1]\n",
    "            cnt = cnt + 1\n",
    "print(\"Identity Similarity: \", img_sim/cnt, \"\\nText Similarity:\", text_sim/cnt)"
   ]
  },
  {
   "cell_type": "code",
   "execution_count": null,
   "metadata": {},
   "outputs": [],
   "source": []
  }
 ],
 "metadata": {
  "kernelspec": {
   "display_name": "e4t",
   "language": "python",
   "name": "python3"
  },
  "language_info": {
   "codemirror_mode": {
    "name": "ipython",
    "version": 3
   },
   "file_extension": ".py",
   "mimetype": "text/x-python",
   "name": "python",
   "nbconvert_exporter": "python",
   "pygments_lexer": "ipython3",
   "version": "3.9.18"
  }
 },
 "nbformat": 4,
 "nbformat_minor": 2
}
