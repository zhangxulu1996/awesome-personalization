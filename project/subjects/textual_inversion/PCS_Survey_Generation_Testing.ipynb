{
 "cells": [
  {
   "cell_type": "markdown",
   "metadata": {},
   "source": [
    "## Generate images for evaluation"
   ]
  },
  {
   "cell_type": "code",
   "execution_count": null,
   "metadata": {},
   "outputs": [],
   "source": [
    "import os\n",
    "os.environ[\"CUDA_VISIBLE_DEVICES\"] = \"7\"\n",
    "\n",
    "import sys\n",
    "utils_path = os.path.abspath(os.path.join('../..'))\n",
    "sys.path.append(utils_path)\n",
    "\n",
    "import torch\n",
    "from diffusers import StableDiffusionPipeline\n",
    "from utils.dataset_info import get_subjects_prompts_info\n",
    "\n",
    "\n",
    "# Single Subject Generation\n",
    "single_subject = []                            # \"backpack\"\n",
    "# Single Prompt Generation\n",
    "single_prompt = []                            # e.g. [\"a {0} {1} near the pool\"]\n",
    "\n",
    "num_generation = 4\n",
    "\n",
    "\n",
    "output_path = \"../../outputs/subjects/textual_inversion\"\n",
    "subjects = os.listdir(\"../../logs/subjects/textual_inversion/\")\n",
    "dataset_info_path = \"../../pcs_dataset/info.json\"\n",
    "\n",
    "prompts_info = get_subjects_prompts_info(dataset_info_path)\n",
    "\n",
    "if len(single_subject):\n",
    "    subjects = single_subject\n",
    "\n",
    "for subject in subjects:\n",
    "        \n",
    "    print(f\"***** Subject: {subject} *****\")\n",
    "\n",
    "    # load sd model\n",
    "    pipeline = StableDiffusionPipeline.from_pretrained(\"CompVis/stable-diffusion-v1-4\", torch_dtype=torch.float16).to(\"cuda\")\n",
    "    pipeline.load_textual_inversion(f\"../../logs/subjects/textual_inversion/{subject}\")\n",
    "    pipeline.safety_checker = None\n",
    "    pipeline.requires_safety_checker = False\n",
    "\n",
    "    os.makedirs(os.path.join(output_path, subject), exist_ok=True)\n",
    "\n",
    "    if len(single_prompt):\n",
    "        prompts = single_prompt\n",
    "    else:\n",
    "        prompts = prompts_info[subject][\"prompts\"]\n",
    "\n",
    "    for prompt in prompts:\n",
    "        prompt = prompt.replace(\"{0} {1}\", \"<new1>\")\n",
    "        print(f\"**Prompt**: {prompt}\")\n",
    "\n",
    "        if prompt not in os.listdir(os.path.join(output_path, subject)):\n",
    "\n",
    "            image = pipeline(prompt, num_inference_steps=50, num_images_per_prompt=num_generation, guidance_scale=7.5).images\n",
    "\n",
    "            save_path = os.path.join(output_path, subject, f\"{prompt}\")\n",
    "            os.makedirs(save_path, exist_ok=True)\n",
    "\n",
    "            for img_idx, img in enumerate(image):\n",
    "                img.save(os.path.join(save_path, f\"{img_idx:04d}.jpg\"))\n",
    "    \n",
    "    print(f\"Finished textual inversion in subject: {subject}!\")\n"
   ]
  },
  {
   "cell_type": "markdown",
   "metadata": {},
   "source": [
    "## Evaluation"
   ]
  },
  {
   "cell_type": "markdown",
   "metadata": {},
   "source": [
    "### Calculate the similarity for each sample\n",
    "Calculate img to img similarity and text to img similarity by CLIP Evaluator"
   ]
  },
  {
   "cell_type": "code",
   "execution_count": null,
   "metadata": {},
   "outputs": [],
   "source": [
    "import os, sys, json\n",
    "\n",
    "os.environ[\"CUDA_VISIBLE_DEVICES\"] = \"6\"\n",
    "\n",
    "utils_path = os.path.abspath(os.path.join('../..'))\n",
    "sys.path.append(utils_path)\n",
    "\n",
    "import numpy as np\n",
    "from utils.clip_eval import evaluate_i2i, evaluate_t2i"
   ]
  },
  {
   "cell_type": "code",
   "execution_count": 2,
   "metadata": {},
   "outputs": [],
   "source": [
    "def convert_to_native(data):\n",
    "    if isinstance(data, np.ndarray):\n",
    "        return data.tolist()\n",
    "    elif isinstance(data, np.generic):\n",
    "        return data.item()\n",
    "    elif isinstance(data, dict):\n",
    "        return {key: convert_to_native(value) for key, value in data.items()}\n",
    "    elif isinstance(data, list):\n",
    "        return [convert_to_native(item) for item in data]\n",
    "    else:\n",
    "        return data\n",
    "    \n",
    "def add_evaluation(file_path, new_data):\n",
    "    # check whether the file exist\n",
    "    if not os.path.exists(file_path):\n",
    "        with open(file_path, 'w') as file:\n",
    "            json.dump(convert_to_native(new_data), file, indent=4)\n",
    "    else:\n",
    "        with open(file_path, 'r') as file:\n",
    "            data = json.load(file)\n",
    "        data.update(convert_to_native(new_data))\n",
    "        with open(file_path, 'w') as file:\n",
    "            json.dump(data, file, indent=4)"
   ]
  },
  {
   "cell_type": "code",
   "execution_count": null,
   "metadata": {},
   "outputs": [],
   "source": [
    "outputs_path = \"../../outputs/subjects/textual_inversion\"\n",
    "eval_res_path = \"../../eval_results/subjects/textual_inversion\"\n",
    "dataset_path = \"../../pcs_dataset/subjects\"\n",
    "dataset_info_path = \"../../pcs_dataset/info.json\"\n",
    "os.makedirs(eval_res_path, exist_ok=True)\n",
    "\n",
    "subjects_list = os.listdir(outputs_path)\n",
    "\n",
    "for subject in subjects_list:\n",
    "    evaluation_res = dict()\n",
    "    print(f\"***** Subject: {subject} *****\")\n",
    "\n",
    "    res_for_each_subject =dict()\n",
    "\n",
    "    for prompt in os.listdir(os.path.join(outputs_path, subject)):\n",
    "        print(f\"**Prompt**: {prompt}\")\n",
    "\n",
    "        res_for_each_prompt =dict()\n",
    "\n",
    "        for generate_img_name in os.listdir(os.path.join(outputs_path, subject, prompt)):\n",
    "            generate_img_path = os.path.join(outputs_path, subject, prompt, generate_img_name)\n",
    "            res_for_each_prompt[generate_img_name] = [evaluate_i2i(generate_img_path, os.path.join(dataset_path, subject)), evaluate_t2i(generate_img_path, prompt)]\n",
    "        \n",
    "        res_for_each_subject[prompt] = res_for_each_prompt\n",
    "        print(res_for_each_prompt)\n",
    "\n",
    "    evaluation_res[subject] = res_for_each_subject\n",
    "\n",
    "    add_evaluation(os.path.join(eval_res_path, \"evaluation_results.json\"), evaluation_res)"
   ]
  },
  {
   "cell_type": "markdown",
   "metadata": {},
   "source": [
    "### Calculate the average similarity"
   ]
  },
  {
   "cell_type": "code",
   "execution_count": 5,
   "metadata": {},
   "outputs": [
    {
     "name": "stdout",
     "output_type": "stream",
     "text": [
      "Image Similarity:  0.7488533182347075 \n",
      "Text Similarity: 0.19942581501412898\n"
     ]
    }
   ],
   "source": [
    "import json\n",
    "\n",
    "eval_res_path = \"../../eval_results/subjects/textual_inversion/evaluation_results.json\"\n",
    "\n",
    "with open(eval_res_path, \"r\") as f:\n",
    "    data = json.load(f)\n",
    "\n",
    "img_sim = 0.0\n",
    "text_sim = 0.0\n",
    "cnt = 0\n",
    "\n",
    "for subject in data:\n",
    "    for prompt in data[subject]:\n",
    "        for sample in data[subject][prompt]:\n",
    "            img_sim = img_sim + data[subject][prompt][sample][0]\n",
    "            text_sim = text_sim + data[subject][prompt][sample][1]\n",
    "            cnt = cnt + 1\n",
    "print(\"Image Similarity: \", img_sim/cnt, \"\\nText Similarity:\", text_sim/cnt)"
   ]
  },
  {
   "cell_type": "code",
   "execution_count": null,
   "metadata": {},
   "outputs": [],
   "source": []
  }
 ],
 "metadata": {
  "kernelspec": {
   "display_name": "pcs",
   "language": "python",
   "name": "python3"
  },
  "language_info": {
   "codemirror_mode": {
    "name": "ipython",
    "version": 3
   },
   "file_extension": ".py",
   "mimetype": "text/x-python",
   "name": "python",
   "nbconvert_exporter": "python",
   "pygments_lexer": "ipython3",
   "version": "3.8.19"
  }
 },
 "nbformat": 4,
 "nbformat_minor": 2
}
